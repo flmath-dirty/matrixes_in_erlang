{
 "cells": [
  {
   "cell_type": "code",
   "execution_count": 303,
   "metadata": {
    "collapsed": true
   },
   "outputs": [],
   "source": [
    "import matplotlib.pyplot as plt\n",
    "from matplotlib.patches import ConnectionPatch\n",
    "import pandas as pd\n",
    "import numpy as np\n",
    "from math import ceil"
   ]
  },
  {
   "cell_type": "code",
   "execution_count": 304,
   "metadata": {
    "collapsed": true
   },
   "outputs": [],
   "source": [
    "import io\n",
    "import requests\n",
    "\n",
    "Content = requests.get(\"https://raw.githubusercontent.com/flmath-dirty/matrixes_in_erlang/master/results.cvs\").content\n",
    "\n",
    "LoadedTable= pd.read_csv(io.StringIO(Content.decode('utf-8')),skipinitialspace=True,\n",
    "                  names=['Test type', 'Width', 'Height','Matrix representation','No. of calls', 'Execution time'])"
   ]
  },
  {
   "cell_type": "code",
   "execution_count": 305,
   "metadata": {
    "collapsed": true
   },
   "outputs": [],
   "source": [
    "from scipy import stats\n",
    "from functools import reduce\n",
    "AggregatedTable = (LoadedTable.groupby(['Test type','Matrix representation'])['Execution time']\n",
    "                   .apply(list).reset_index(name='Execution Times List'))"
   ]
  },
  {
   "cell_type": "code",
   "execution_count": 306,
   "metadata": {
    "collapsed": true
   },
   "outputs": [],
   "source": [
    "AggregatedTable['Harmonic Average'] = AggregatedTable['Execution Times List'].apply(\n",
    "    lambda x: stats.hmean(x) if (len(x) == 3) else np.inf)\n"
   ]
  },
  {
   "cell_type": "code",
   "execution_count": 307,
   "metadata": {
    "collapsed": true
   },
   "outputs": [],
   "source": [
    "AggregatedTable['Max'] = AggregatedTable['Execution Times List'].apply(\n",
    "    lambda x: max(x) if (len(x) == 3) else np.inf)"
   ]
  },
  {
   "cell_type": "code",
   "execution_count": 308,
   "metadata": {
    "collapsed": true
   },
   "outputs": [],
   "source": [
    "AggregatedTable['Min'] = AggregatedTable['Execution Times List'].apply(min)"
   ]
  },
  {
   "cell_type": "code",
   "execution_count": 309,
   "metadata": {},
   "outputs": [
    {
     "data": {
      "text/html": [
       "<div>\n",
       "<style>\n",
       "    .dataframe thead tr:only-child th {\n",
       "        text-align: right;\n",
       "    }\n",
       "\n",
       "    .dataframe thead th {\n",
       "        text-align: left;\n",
       "    }\n",
       "\n",
       "    .dataframe tbody tr th {\n",
       "        vertical-align: top;\n",
       "    }\n",
       "</style>\n",
       "<table border=\"1\" class=\"dataframe\">\n",
       "  <thead>\n",
       "    <tr style=\"text-align: right;\">\n",
       "      <th></th>\n",
       "      <th>Test type</th>\n",
       "      <th>Matrix representation</th>\n",
       "      <th>Execution Times List</th>\n",
       "      <th>Harmonic Average</th>\n",
       "      <th>Max</th>\n",
       "      <th>Min</th>\n",
       "    </tr>\n",
       "  </thead>\n",
       "  <tbody>\n",
       "    <tr>\n",
       "      <th>0</th>\n",
       "      <td>get_value</td>\n",
       "      <td>matrix_as_array</td>\n",
       "      <td>[59.462, 232.601, 28018.33]</td>\n",
       "      <td>141.828134</td>\n",
       "      <td>2.801833e+04</td>\n",
       "      <td>59.462</td>\n",
       "    </tr>\n",
       "    <tr>\n",
       "      <th>1</th>\n",
       "      <td>get_value</td>\n",
       "      <td>matrix_as_big_tuple</td>\n",
       "      <td>[25.176, 121.824, 12527.693]</td>\n",
       "      <td>62.488602</td>\n",
       "      <td>1.252769e+04</td>\n",
       "      <td>25.176</td>\n",
       "    </tr>\n",
       "    <tr>\n",
       "      <th>2</th>\n",
       "      <td>get_value</td>\n",
       "      <td>matrix_as_digraph</td>\n",
       "      <td>[42.854, 211.419, 19704.339]</td>\n",
       "      <td>106.701803</td>\n",
       "      <td>1.970434e+04</td>\n",
       "      <td>42.854</td>\n",
       "    </tr>\n",
       "    <tr>\n",
       "      <th>3</th>\n",
       "      <td>get_value</td>\n",
       "      <td>matrix_as_list_of_lists</td>\n",
       "      <td>[280.91, 2073.251]</td>\n",
       "      <td>inf</td>\n",
       "      <td>inf</td>\n",
       "      <td>280.910</td>\n",
       "    </tr>\n",
       "    <tr>\n",
       "      <th>4</th>\n",
       "      <td>get_value</td>\n",
       "      <td>matrix_as_map</td>\n",
       "      <td>[36.883, 159.307, 15976.373]</td>\n",
       "      <td>89.679282</td>\n",
       "      <td>1.597637e+04</td>\n",
       "      <td>36.883</td>\n",
       "    </tr>\n",
       "  </tbody>\n",
       "</table>\n",
       "</div>"
      ],
      "text/plain": [
       "   Test type    Matrix representation          Execution Times List  \\\n",
       "0  get_value          matrix_as_array   [59.462, 232.601, 28018.33]   \n",
       "1  get_value      matrix_as_big_tuple  [25.176, 121.824, 12527.693]   \n",
       "2  get_value        matrix_as_digraph  [42.854, 211.419, 19704.339]   \n",
       "3  get_value  matrix_as_list_of_lists            [280.91, 2073.251]   \n",
       "4  get_value            matrix_as_map  [36.883, 159.307, 15976.373]   \n",
       "\n",
       "   Harmonic Average           Max      Min  \n",
       "0        141.828134  2.801833e+04   59.462  \n",
       "1         62.488602  1.252769e+04   25.176  \n",
       "2        106.701803  1.970434e+04   42.854  \n",
       "3               inf           inf  280.910  \n",
       "4         89.679282  1.597637e+04   36.883  "
      ]
     },
     "execution_count": 309,
     "metadata": {},
     "output_type": "execute_result"
    }
   ],
   "source": [
    "AggregatedTable.head()"
   ]
  },
  {
   "cell_type": "code",
   "execution_count": 310,
   "metadata": {
    "collapsed": true
   },
   "outputs": [],
   "source": [
    "GetValue = (\n",
    "    AggregatedTable\n",
    "    .loc[AggregatedTable['Test type']=='get_value']\n",
    "    .loc[:,['Matrix representation','Harmonic Average','Max','Min']]\n",
    "    )\n",
    "#GetValue.columns = GetValue.iloc[0]\n",
    "GetValue = GetValue.set_index('Matrix representation')\n",
    "#%matplotlib inline"
   ]
  },
  {
   "cell_type": "code",
   "execution_count": 17,
   "metadata": {},
   "outputs": [
    {
     "ename": "ModuleNotFoundError",
     "evalue": "No module named 'sawed_bar_plot'",
     "output_type": "error",
     "traceback": [
      "\u001b[1;31m---------------------------------------------------------------------------\u001b[0m",
      "\u001b[1;31mModuleNotFoundError\u001b[0m                       Traceback (most recent call last)",
      "\u001b[1;32m<ipython-input-17-ef552eaf6b08>\u001b[0m in \u001b[0;36m<module>\u001b[1;34m()\u001b[0m\n\u001b[1;32m----> 1\u001b[1;33m \u001b[1;32mimport\u001b[0m \u001b[0msawed_bar_plot\u001b[0m\u001b[1;33m\u001b[0m\u001b[0m\n\u001b[0m",
      "\u001b[1;31mModuleNotFoundError\u001b[0m: No module named 'sawed_bar_plot'"
     ]
    }
   ],
   "source": [
    "import sawed_bar_plot"
   ]
  },
  {
   "cell_type": "code",
   "execution_count": 5,
   "metadata": {},
   "outputs": [
    {
     "ename": "NameError",
     "evalue": "name 'sawed_bar_plot' is not defined",
     "output_type": "error",
     "traceback": [
      "\u001b[1;31m---------------------------------------------------------------------------\u001b[0m",
      "\u001b[1;31mNameError\u001b[0m                                 Traceback (most recent call last)",
      "\u001b[1;32m<ipython-input-5-a6a2a6c5eff1>\u001b[0m in \u001b[0;36m<module>\u001b[1;34m()\u001b[0m\n\u001b[1;32m----> 1\u001b[1;33m \u001b[0msawed_bar_plot\u001b[0m\u001b[1;33m(\u001b[0m\u001b[0mGetValue\u001b[0m\u001b[1;33m)\u001b[0m\u001b[1;33m\u001b[0m\u001b[0m\n\u001b[0m",
      "\u001b[1;31mNameError\u001b[0m: name 'sawed_bar_plot' is not defined"
     ]
    }
   ],
   "source": [
    "sawed_bar_plot(GetValue)"
   ]
  }
 ],
 "metadata": {
  "anaconda-cloud": {},
  "kernelspec": {
   "display_name": "Python 3",
   "language": "python",
   "name": "python3"
  },
  "language_info": {
   "codemirror_mode": {
    "name": "ipython",
    "version": 3
   },
   "file_extension": ".py",
   "mimetype": "text/x-python",
   "name": "python",
   "nbconvert_exporter": "python",
   "pygments_lexer": "ipython3",
   "version": "3.6.3"
  }
 },
 "nbformat": 4,
 "nbformat_minor": 1
}
