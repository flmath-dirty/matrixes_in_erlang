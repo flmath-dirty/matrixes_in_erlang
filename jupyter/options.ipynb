{
 "cells": [
  {
   "cell_type": "code",
   "execution_count": null,
   "metadata": {
    "collapsed": true
   },
   "outputs": [],
   "source": [
    "import matplotlib.pyplot as plt\n",
    "from matplotlib.patches import ConnectionPatch\n",
    "import pandas as pd\n",
    "import numpy as np\n",
    "from math import ceil"
   ]
  },
  {
   "cell_type": "code",
   "execution_count": null,
   "metadata": {
    "collapsed": true
   },
   "outputs": [],
   "source": [
    "import io\n",
    "import requests\n",
    "\n",
    "Content = requests.get(\"https://raw.githubusercontent.com/flmath-dirty/matrixes_in_erlang/master/results.cvs\").content\n",
    "\n",
    "LoadedTable= pd.read_csv(io.StringIO(Content.decode('utf-8')),skipinitialspace=True,\n",
    "                  names=['Test type', 'Width', 'Height','Matrix representation','No. of calls', 'Execution time'])"
   ]
  },
  {
   "cell_type": "code",
   "execution_count": null,
   "metadata": {
    "collapsed": true
   },
   "outputs": [],
   "source": [
    "from scipy import stats\n",
    "from functools import reduce\n",
    "AggregatedTable = (LoadedTable.groupby(['Test type','Matrix representation'])['Execution time']\n",
    "                   .apply(list).reset_index(name='Execution Times List'))"
   ]
  },
  {
   "cell_type": "code",
   "execution_count": null,
   "metadata": {
    "collapsed": true
   },
   "outputs": [],
   "source": [
    "AggregatedTable['Harmonic Average'] = AggregatedTable['Execution Times List'].apply(\n",
    "    lambda x: stats.hmean(x) if (len(x) == 3) else np.inf)\n"
   ]
  },
  {
   "cell_type": "code",
   "execution_count": null,
   "metadata": {
    "collapsed": true
   },
   "outputs": [],
   "source": [
    "AggregatedTable['Max'] = AggregatedTable['Execution Times List'].apply(\n",
    "    lambda x: max(x) if (len(x) == 3) else np.inf)"
   ]
  },
  {
   "cell_type": "code",
   "execution_count": null,
   "metadata": {
    "collapsed": true
   },
   "outputs": [],
   "source": [
    "AggregatedTable['Min'] = AggregatedTable['Execution Times List'].apply(min)"
   ]
  },
  {
   "cell_type": "code",
   "execution_count": null,
   "metadata": {},
   "outputs": [],
   "source": [
    "AggregatedTable.head()"
   ]
  },
  {
   "cell_type": "code",
   "execution_count": null,
   "metadata": {
    "collapsed": true
   },
   "outputs": [],
   "source": [
    "GetValue = (\n",
    "    AggregatedTable\n",
    "    .loc[AggregatedTable['Test type']=='get_value']\n",
    "    .loc[:,['Matrix representation','Harmonic Average','Max','Min']]\n",
    "    )\n",
    "#GetValue.columns = GetValue.iloc[0]\n",
    "GetValue = GetValue.set_index('Matrix representation')\n",
    "#%matplotlib inline"
   ]
  },
  {
   "cell_type": "code",
   "execution_count": null,
   "metadata": {},
   "outputs": [],
   "source": [
    "%run https://raw.githubusercontent.com/flmath-dirty/jupyter_extensions/master/matplotlib/sawed_bar_plot.py\n",
    "import matplotlib.pyplot as plt\n",
    "import pandas as pd\n",
    "import numpy as np\n",
    "from math import ceil\n",
    "\n",
    "def sawed_bar_plot(DataFrame,BreakValue=350):\n",
    "    # replace infinity values with reasonable values that can be ploted\n",
    "    MaxNotInfValue = DataFrame['Max'].loc[DataFrame['Max']!=np.inf].max()\n",
    "    Upper_yLim = np.ceil(MaxNotInfValue*1.5)\n",
    "    DataFrame = DataFrame.replace(np.inf,Upper_yLim)\n",
    "    #create a 3 part plot \n",
    "    f, ax = plt.subplots(3, 1, sharex=True, gridspec_kw = {'height_ratios':[11, 3,11]})\n",
    "    f.set_figwidth(12.0)\n",
    "    f.set_figheight(9.0)\n",
    "    f.set_facecolor(\"lightcyan\")\n",
    "   \n",
    "    \n",
    "    #glue the 3 parts of plot    \n",
    "    for axi in ax: axi.set_facecolor(\"lightcyan\")\n",
    "        \n",
    "    ax[2].set_ylim(0,BreakValue)\n",
    "    ax[1].set_ylim(0,1)\n",
    "    ax[0].set_ylim(BreakValue,Upper_yLim)\n",
    "        \n",
    "    ax[0].spines['bottom'].set_visible(False)\n",
    "    ax[0].spines['top'].set_visible(False)\n",
    "    ax[1].spines['bottom'].set_visible(False)\n",
    "    ax[1].spines['top'].set_visible(False)\n",
    "    ax[2].spines['top'].set_visible(False)\n",
    "        \n",
    "    ax[0].tick_params(\n",
    "            axis='x',  \n",
    "            which='both',      \n",
    "            bottom='off',      \n",
    "            top='off',         \n",
    "            labelbottom='off') \n",
    "       \n",
    "    ax[1].axis('off')\n",
    "    ax[2].tick_params(\n",
    "            axis='x',          \n",
    "            which='both',\n",
    "            bottom='off',\n",
    "            top='off',\n",
    "            labelbottom='on')\n",
    "    plt.subplots_adjust(hspace=0)\n",
    "    \n",
    "    #draw the upper subplot\n",
    "    DataFrame.plot.bar(ax=ax[0], legend=False, edgecolor = \"none\")\n",
    "\n",
    "    #calculate the saw coordinates for the middle subplot\n",
    "    no_of_ticks = len(ax[0].get_xticks())\n",
    "    x_range = [x for x in range(-1,no_of_ticks+1)]\n",
    "    upper = [1]+[0.9,0.6]*(ceil(no_of_ticks/2)-1)+[0.9,0.9,1]\n",
    "    bottom =[-0.2]+[0.4,0.1]*(ceil(no_of_ticks/2)-1)+[0.5,0.5,-0.1]\n",
    "    #draw the middle subplot\n",
    "    ax[1].plot(x_range,upper,  color='lightgrey',linestyle=(0, (5, 5)))\n",
    "    ax[1].plot(x_range,bottom, color='lightgrey',linestyle=(0, (5, 5)))\n",
    "    ax[1].fill_between(x_range, bottom, upper,facecolor='teal', color='white')\n",
    "    ax[1].set_facecolor(\"lightcyan\")\n",
    "    ax[1].axes.get_yaxis().set_visible(False)\n",
    "        \n",
    "    #draw the bottom subplot        \n",
    "    DataFrame.plot.bar(ax=ax[2], legend=False, edgecolor = \"none\")\n",
    "    ax[2].set_xticklabels(DataFrame.index.values.tolist(),rotation=\"horizontal\")\n",
    "    #f.autofmt_xdate()\n",
    "    ax[2].legend(loc=9, bbox_to_anchor=(0.1, -0.1), ncol=2)\n",
    "    \n",
    "    plt.show()\n"
   ]
  },
  {
   "cell_type": "code",
   "execution_count": null,
   "metadata": {},
   "outputs": [],
   "source": [
    "sawed_bar_plot(GetValue)"
   ]
  },
  {
   "cell_type": "code",
   "execution_count": null,
   "metadata": {
    "collapsed": true
   },
   "outputs": [],
   "source": [
    "from notebook.nbextensions import check_nbextension"
   ]
  },
  {
   "cell_type": "code",
   "execution_count": null,
   "metadata": {},
   "outputs": [],
   "source": [
    "check_nbextension('codefolding', user=True)"
   ]
  },
  {
   "cell_type": "code",
   "execution_count": null,
   "metadata": {},
   "outputs": [],
   "source": [
    "%lsmagic"
   ]
  },
  {
   "cell_type": "code",
   "execution_count": null,
   "metadata": {},
   "outputs": [],
   "source": [
    "\n",
    "%load https://raw.githubusercontent.com/flmath-dirty/jupyter_extensions/master/matplotlib/sawed_bar_plot.py\n"
   ]
  },
  {
   "cell_type": "code",
   "execution_count": null,
   "metadata": {},
   "outputs": [],
   "source": [
    "%pwd"
   ]
  },
  {
   "cell_type": "code",
   "execution_count": null,
   "metadata": {
    "collapsed": true
   },
   "outputs": [],
   "source": [
    "from notebook.nbextensions import check_nbextension\n",
    "check_nbextension('codefolding', user=True)"
   ]
  }
 ],
 "metadata": {
  "anaconda-cloud": {},
  "kernelspec": {
   "display_name": "Python 3",
   "language": "python",
   "name": "python3"
  },
  "language_info": {
   "codemirror_mode": {
    "name": "ipython",
    "version": 3
   },
   "file_extension": ".py",
   "mimetype": "text/x-python",
   "name": "python",
   "nbconvert_exporter": "python",
   "pygments_lexer": "ipython3",
   "version": "3.6.3"
  }
 },
 "nbformat": 4,
 "nbformat_minor": 1
}
