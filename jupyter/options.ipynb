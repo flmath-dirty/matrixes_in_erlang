{
 "cells": [
  {
   "cell_type": "code",
   "execution_count": 20,
   "metadata": {
    "collapsed": true
   },
   "outputs": [],
   "source": [
    "import matplotlib.pyplot as plt\n",
    "from matplotlib.patches import ConnectionPatch\n",
    "import pandas as pd\n",
    "import numpy as np\n",
    "from math import ceil"
   ]
  },
  {
   "cell_type": "code",
   "execution_count": 21,
   "metadata": {
    "collapsed": true
   },
   "outputs": [],
   "source": [
    "import io\n",
    "import requests\n",
    "\n",
    "Content = requests.get(\"https://raw.githubusercontent.com/flmath-dirty/matrixes_in_erlang/master/results.cvs\").content\n",
    "\n",
    "LoadedTable= pd.read_csv(io.StringIO(Content.decode('utf-8')),skipinitialspace=True,\n",
    "                  names=['Test type', 'Width', 'Height','Matrix representation','No. of calls', 'Execution time'])"
   ]
  },
  {
   "cell_type": "code",
   "execution_count": 22,
   "metadata": {
    "collapsed": true
   },
   "outputs": [],
   "source": [
    "from scipy import stats\n",
    "from functools import reduce\n",
    "AggregatedTable = (LoadedTable.groupby(['Test type','Matrix representation'])['Execution time']\n",
    "                   .apply(list).reset_index(name='Execution Times List'))"
   ]
  },
  {
   "cell_type": "code",
   "execution_count": 23,
   "metadata": {
    "collapsed": true
   },
   "outputs": [],
   "source": [
    "AggregatedTable['Harmonic Average'] = AggregatedTable['Execution Times List'].apply(\n",
    "    lambda x: stats.hmean(x) if (len(x) == 3) else np.inf)\n"
   ]
  },
  {
   "cell_type": "code",
   "execution_count": 24,
   "metadata": {
    "collapsed": true
   },
   "outputs": [],
   "source": [
    "AggregatedTable['Max'] = AggregatedTable['Execution Times List'].apply(\n",
    "    lambda x: max(x) if (len(x) == 3) else np.inf)"
   ]
  },
  {
   "cell_type": "code",
   "execution_count": 25,
   "metadata": {
    "collapsed": true
   },
   "outputs": [],
   "source": [
    "AggregatedTable['Min'] = AggregatedTable['Execution Times List'].apply(min)"
   ]
  },
  {
   "cell_type": "code",
   "execution_count": 26,
   "metadata": {},
   "outputs": [
    {
     "data": {
      "text/html": [
       "<div>\n",
       "<style>\n",
       "    .dataframe thead tr:only-child th {\n",
       "        text-align: right;\n",
       "    }\n",
       "\n",
       "    .dataframe thead th {\n",
       "        text-align: left;\n",
       "    }\n",
       "\n",
       "    .dataframe tbody tr th {\n",
       "        vertical-align: top;\n",
       "    }\n",
       "</style>\n",
       "<table border=\"1\" class=\"dataframe\">\n",
       "  <thead>\n",
       "    <tr style=\"text-align: right;\">\n",
       "      <th></th>\n",
       "      <th>Test type</th>\n",
       "      <th>Matrix representation</th>\n",
       "      <th>Execution Times List</th>\n",
       "      <th>Harmonic Average</th>\n",
       "      <th>Max</th>\n",
       "      <th>Min</th>\n",
       "    </tr>\n",
       "  </thead>\n",
       "  <tbody>\n",
       "    <tr>\n",
       "      <th>0</th>\n",
       "      <td>get_value</td>\n",
       "      <td>matrix_as_array</td>\n",
       "      <td>[59.462, 232.601, 28018.33]</td>\n",
       "      <td>141.828134</td>\n",
       "      <td>2.801833e+04</td>\n",
       "      <td>59.462</td>\n",
       "    </tr>\n",
       "    <tr>\n",
       "      <th>1</th>\n",
       "      <td>get_value</td>\n",
       "      <td>matrix_as_big_tuple</td>\n",
       "      <td>[25.176, 121.824, 12527.693]</td>\n",
       "      <td>62.488602</td>\n",
       "      <td>1.252769e+04</td>\n",
       "      <td>25.176</td>\n",
       "    </tr>\n",
       "    <tr>\n",
       "      <th>2</th>\n",
       "      <td>get_value</td>\n",
       "      <td>matrix_as_digraph</td>\n",
       "      <td>[42.854, 211.419, 19704.339]</td>\n",
       "      <td>106.701803</td>\n",
       "      <td>1.970434e+04</td>\n",
       "      <td>42.854</td>\n",
       "    </tr>\n",
       "    <tr>\n",
       "      <th>3</th>\n",
       "      <td>get_value</td>\n",
       "      <td>matrix_as_list_of_lists</td>\n",
       "      <td>[280.91, 2073.251]</td>\n",
       "      <td>inf</td>\n",
       "      <td>inf</td>\n",
       "      <td>280.910</td>\n",
       "    </tr>\n",
       "    <tr>\n",
       "      <th>4</th>\n",
       "      <td>get_value</td>\n",
       "      <td>matrix_as_map</td>\n",
       "      <td>[36.883, 159.307, 15976.373]</td>\n",
       "      <td>89.679282</td>\n",
       "      <td>1.597637e+04</td>\n",
       "      <td>36.883</td>\n",
       "    </tr>\n",
       "  </tbody>\n",
       "</table>\n",
       "</div>"
      ],
      "text/plain": [
       "   Test type    Matrix representation          Execution Times List  \\\n",
       "0  get_value          matrix_as_array   [59.462, 232.601, 28018.33]   \n",
       "1  get_value      matrix_as_big_tuple  [25.176, 121.824, 12527.693]   \n",
       "2  get_value        matrix_as_digraph  [42.854, 211.419, 19704.339]   \n",
       "3  get_value  matrix_as_list_of_lists            [280.91, 2073.251]   \n",
       "4  get_value            matrix_as_map  [36.883, 159.307, 15976.373]   \n",
       "\n",
       "   Harmonic Average           Max      Min  \n",
       "0        141.828134  2.801833e+04   59.462  \n",
       "1         62.488602  1.252769e+04   25.176  \n",
       "2        106.701803  1.970434e+04   42.854  \n",
       "3               inf           inf  280.910  \n",
       "4         89.679282  1.597637e+04   36.883  "
      ]
     },
     "execution_count": 26,
     "metadata": {},
     "output_type": "execute_result"
    }
   ],
   "source": [
    "AggregatedTable.head()"
   ]
  },
  {
   "cell_type": "code",
   "execution_count": 41,
   "metadata": {
    "collapsed": true
   },
   "outputs": [],
   "source": [
    "GetValue = (\n",
    "    AggregatedTable\n",
    "    .loc[AggregatedTable['Test type']=='get_value']\n",
    "    .loc[:,['Matrix representation','Harmonic Average','Max','Min']]\n",
    "    )\n",
    "#GetValue.columns = GetValue.iloc[0]\n",
    "GetValue = GetValue.set_index('Matrix representation')\n",
    "#%matplotlib inline"
   ]
  },
  {
   "cell_type": "code",
   "execution_count": 46,
   "metadata": {},
   "outputs": [
    {
     "name": "stderr",
     "output_type": "stream",
     "text": [
      "ERROR:root:File `'https://raw.githubusercontent.com/flmath-dirty/jupyter_extensions/master/matplotlib/sawed_bar_plot.py'` not found.\n"
     ]
    }
   ],
   "source": [
    "%run https://raw.githubusercontent.com/flmath-dirty/jupyter_extensions/master/matplotlib/sawed_bar_plot.py\n",
    "import matplotlib.pyplot as plt\n",
    "import pandas as pd\n",
    "import numpy as np\n",
    "from math import ceil\n",
    "\n",
    "def sawed_bar_plot(DataFrame,BreakValue=350):\n",
    "    # replace infinity values with reasonable values that can be ploted\n",
    "    MaxNotInfValue = DataFrame['Max'].loc[DataFrame['Max']!=np.inf].max()\n",
    "    Upper_yLim = np.ceil(MaxNotInfValue*1.5)\n",
    "    DataFrame = DataFrame.replace(np.inf,Upper_yLim)\n",
    "    #create a 3 part plot \n",
    "    f, ax = plt.subplots(3, 1, sharex=True, gridspec_kw = {'height_ratios':[11, 3,11]})\n",
    "    f.set_figwidth(12.0)\n",
    "    f.set_figheight(9.0)\n",
    "    f.set_facecolor(\"lightcyan\")\n",
    "   \n",
    "    \n",
    "    #glue the 3 parts of plot    \n",
    "    for axi in ax: axi.set_facecolor(\"lightcyan\")\n",
    "        \n",
    "    ax[2].set_ylim(0,BreakValue)\n",
    "    ax[1].set_ylim(0,1)\n",
    "    ax[0].set_ylim(BreakValue,Upper_yLim)\n",
    "        \n",
    "    ax[0].spines['bottom'].set_visible(False)\n",
    "    ax[0].spines['top'].set_visible(False)\n",
    "    ax[1].spines['bottom'].set_visible(False)\n",
    "    ax[1].spines['top'].set_visible(False)\n",
    "    ax[2].spines['top'].set_visible(False)\n",
    "        \n",
    "    ax[0].tick_params(\n",
    "            axis='x',  \n",
    "            which='both',      \n",
    "            bottom='off',      \n",
    "            top='off',         \n",
    "            labelbottom='off') \n",
    "       \n",
    "    ax[1].axis('off')\n",
    "    ax[2].tick_params(\n",
    "            axis='x',          \n",
    "            which='both',\n",
    "            bottom='off',\n",
    "            top='off',\n",
    "            labelbottom='on')\n",
    "    plt.subplots_adjust(hspace=0)\n",
    "    \n",
    "    #draw the upper subplot\n",
    "    DataFrame.plot.bar(ax=ax[0], legend=False, edgecolor = \"none\")\n",
    "\n",
    "    #calculate the saw coordinates for the middle subplot\n",
    "    no_of_ticks = len(ax[0].get_xticks())\n",
    "    x_range = [x for x in range(-1,no_of_ticks+1)]\n",
    "    upper = [1]+[0.9,0.6]*(ceil(no_of_ticks/2)-1)+[0.9,0.9,1]\n",
    "    bottom =[-0.2]+[0.4,0.1]*(ceil(no_of_ticks/2)-1)+[0.5,0.5,-0.1]\n",
    "    #draw the middle subplot\n",
    "    ax[1].plot(x_range,upper,  color='lightgrey',linestyle=(0, (5, 5)))\n",
    "    ax[1].plot(x_range,bottom, color='lightgrey',linestyle=(0, (5, 5)))\n",
    "    ax[1].fill_between(x_range, bottom, upper,facecolor='teal', color='white')\n",
    "    ax[1].set_facecolor(\"lightcyan\")\n",
    "    ax[1].axes.get_yaxis().set_visible(False)\n",
    "        \n",
    "    #draw the bottom subplot        \n",
    "    DataFrame.plot.bar(ax=ax[2], legend=False, edgecolor = \"none\")\n",
    "    ax[2].set_xticklabels(DataFrame.index.values.tolist(),rotation=\"horizontal\")\n",
    "    #f.autofmt_xdate()\n",
    "    ax[2].legend(loc=9, bbox_to_anchor=(0.1, -0.1), ncol=2)\n",
    "    \n",
    "    plt.show()\n"
   ]
  },
  {
   "cell_type": "code",
   "execution_count": 47,
   "metadata": {},
   "outputs": [
    {
     "data": {
      "image/png": "[encoded data removed]",
      "text/plain": [
       "<matplotlib.figure.Figure at 0x24e51b4e240>"
      ]
     },
     "metadata": {},
     "output_type": "display_data"
    }
   ],
   "source": [
    "sawed_bar_plot(GetValue)"
   ]
  },
  {
   "cell_type": "code",
   "execution_count": 43,
   "metadata": {
    "collapsed": true
   },
   "outputs": [],
   "source": [
    "from notebook.nbextensions import check_nbextension"
   ]
  },
  {
   "cell_type": "code",
   "execution_count": 44,
   "metadata": {},
   "outputs": [
    {
     "data": {
      "text/plain": [
       "False"
      ]
     },
     "execution_count": 44,
     "metadata": {},
     "output_type": "execute_result"
    }
   ],
   "source": [
    "check_nbextension('codefolding', user=True)"
   ]
  },
  {
   "cell_type": "code",
   "execution_count": 37,
   "metadata": {},
   "outputs": [
    {
     "data": {
      "application/json": {
       "cell": {
        "!": "OSMagics",
        "HTML": "Other",
        "SVG": "Other",
        "bash": "Other",
        "capture": "ExecutionMagics",
        "cmd": "Other",
        "debug": "ExecutionMagics",
        "file": "Other",
        "html": "DisplayMagics",
        "javascript": "DisplayMagics",
        "js": "DisplayMagics",
        "latex": "DisplayMagics",
        "markdown": "DisplayMagics",
        "perl": "Other",
        "prun": "ExecutionMagics",
        "pypy": "Other",
        "python": "Other",
        "python2": "Other",
        "python3": "Other",
        "ruby": "Other",
        "script": "ScriptMagics",
        "sh": "Other",
        "svg": "DisplayMagics",
        "sx": "OSMagics",
        "system": "OSMagics",
        "time": "ExecutionMagics",
        "timeit": "ExecutionMagics",
        "writefile": "OSMagics"
       },
       "line": {
        "alias": "OSMagics",
        "alias_magic": "BasicMagics",
        "autocall": "AutoMagics",
        "automagic": "AutoMagics",
        "autosave": "KernelMagics",
        "bookmark": "OSMagics",
        "cd": "OSMagics",
        "clear": "KernelMagics",
        "cls": "KernelMagics",
        "colors": "BasicMagics",
        "config": "ConfigMagics",
        "connect_info": "KernelMagics",
        "copy": "Other",
        "ddir": "Other",
        "debug": "ExecutionMagics",
        "dhist": "OSMagics",
        "dirs": "OSMagics",
        "doctest_mode": "BasicMagics",
        "echo": "Other",
        "ed": "Other",
        "edit": "KernelMagics",
        "env": "OSMagics",
        "gui": "BasicMagics",
        "hist": "Other",
        "history": "HistoryMagics",
        "killbgscripts": "ScriptMagics",
        "ldir": "Other",
        "less": "KernelMagics",
        "load": "CodeMagics",
        "load_ext": "ExtensionMagics",
        "loadpy": "CodeMagics",
        "logoff": "LoggingMagics",
        "logon": "LoggingMagics",
        "logstart": "LoggingMagics",
        "logstate": "LoggingMagics",
        "logstop": "LoggingMagics",
        "ls": "Other",
        "lsmagic": "BasicMagics",
        "macro": "ExecutionMagics",
        "magic": "BasicMagics",
        "matplotlib": "PylabMagics",
        "mkdir": "Other",
        "more": "KernelMagics",
        "notebook": "BasicMagics",
        "page": "BasicMagics",
        "pastebin": "CodeMagics",
        "pdb": "ExecutionMagics",
        "pdef": "NamespaceMagics",
        "pdoc": "NamespaceMagics",
        "pfile": "NamespaceMagics",
        "pinfo": "NamespaceMagics",
        "pinfo2": "NamespaceMagics",
        "pip": "BasicMagics",
        "popd": "OSMagics",
        "pprint": "BasicMagics",
        "precision": "BasicMagics",
        "profile": "BasicMagics",
        "prun": "ExecutionMagics",
        "psearch": "NamespaceMagics",
        "psource": "NamespaceMagics",
        "pushd": "OSMagics",
        "pwd": "OSMagics",
        "pycat": "OSMagics",
        "pylab": "PylabMagics",
        "qtconsole": "KernelMagics",
        "quickref": "BasicMagics",
        "recall": "HistoryMagics",
        "rehashx": "OSMagics",
        "reload_ext": "ExtensionMagics",
        "ren": "Other",
        "rep": "Other",
        "rerun": "HistoryMagics",
        "reset": "NamespaceMagics",
        "reset_selective": "NamespaceMagics",
        "rmdir": "Other",
        "run": "ExecutionMagics",
        "save": "CodeMagics",
        "sc": "OSMagics",
        "set_env": "OSMagics",
        "store": "StoreMagics",
        "sx": "OSMagics",
        "system": "OSMagics",
        "tb": "ExecutionMagics",
        "time": "ExecutionMagics",
        "timeit": "ExecutionMagics",
        "unalias": "OSMagics",
        "unload_ext": "ExtensionMagics",
        "who": "NamespaceMagics",
        "who_ls": "NamespaceMagics",
        "whos": "NamespaceMagics",
        "xdel": "NamespaceMagics",
        "xmode": "BasicMagics"
       }
      },
      "text/plain": [
       "Available line magics:\n",
       "%alias  %alias_magic  %autocall  %automagic  %autosave  %bookmark  %cd  %clear  %cls  %colors  %config  %connect_info  %copy  %ddir  %debug  %dhist  %dirs  %doctest_mode  %echo  %ed  %edit  %env  %gui  %hist  %history  %killbgscripts  %ldir  %less  %load  %load_ext  %loadpy  %logoff  %logon  %logstart  %logstate  %logstop  %ls  %lsmagic  %macro  %magic  %matplotlib  %mkdir  %more  %notebook  %page  %pastebin  %pdb  %pdef  %pdoc  %pfile  %pinfo  %pinfo2  %popd  %pprint  %precision  %profile  %prun  %psearch  %psource  %pushd  %pwd  %pycat  %pylab  %qtconsole  %quickref  %recall  %rehashx  %reload_ext  %ren  %rep  %rerun  %reset  %reset_selective  %rmdir  %run  %save  %sc  %set_env  %store  %sx  %system  %tb  %time  %timeit  %unalias  %unload_ext  %who  %who_ls  %whos  %xdel  %xmode\n",
       "\n",
       "Available cell magics:\n",
       "%%!  %%HTML  %%SVG  %%bash  %%capture  %%cmd  %%debug  %%file  %%html  %%javascript  %%js  %%latex  %%markdown  %%perl  %%prun  %%pypy  %%python  %%python2  %%python3  %%ruby  %%script  %%sh  %%svg  %%sx  %%system  %%time  %%timeit  %%writefile\n",
       "\n",
       "Automagic is ON, % prefix IS NOT needed for line magics."
      ]
     },
     "execution_count": 37,
     "metadata": {},
     "output_type": "execute_result"
    }
   ],
   "source": [
    "%lsmagic"
   ]
  },
  {
   "cell_type": "code",
   "execution_count": null,
   "metadata": {},
   "outputs": [],
   "source": [
    "\n",
    "%load https://raw.githubusercontent.com/flmath-dirty/jupyter_extensions/master/matplotlib/sawed_bar_plot.py\n"
   ]
  },
  {
   "cell_type": "code",
   "execution_count": 48,
   "metadata": {},
   "outputs": [
    {
     "data": {
      "text/plain": [
       "'C:\\\\Users\\\\math\\\\Documents'"
      ]
     },
     "execution_count": 48,
     "metadata": {},
     "output_type": "execute_result"
    }
   ],
   "source": [
    "%pwd"
   ]
  },
  {
   "cell_type": "code",
   "execution_count": null,
   "metadata": {
    "collapsed": true
   },
   "outputs": [],
   "source": [
    "from notebook.nbextensions import check_nbextension\n",
    "check_nbextension('codefolding', user=True)"
   ]
  }
 ],
 "metadata": {
  "anaconda-cloud": {},
  "kernelspec": {
   "display_name": "Python 3",
   "language": "python",
   "name": "python3"
  },
  "language_info": {
   "codemirror_mode": {
    "name": "ipython",
    "version": 3
   },
   "file_extension": ".py",
   "mimetype": "text/x-python",
   "name": "python",
   "nbconvert_exporter": "python",
   "pygments_lexer": "ipython3",
   "version": "3.6.3"
  }
 },
 "nbformat": 4,
 "nbformat_minor": 1
}
